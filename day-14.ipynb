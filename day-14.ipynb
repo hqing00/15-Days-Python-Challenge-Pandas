{
  "cells": [
    {
      "cell_type": "markdown",
      "metadata": {},
      "source": [
        "# Day 14: Loyalty Program's Impact on Transaction Patterns"
      ]
    },
    {
      "cell_type": "markdown",
      "metadata": {},
      "source": [
        "You are a Business Analyst on the Starbucks Rewards team investigating customer transaction behavior. Your team wants to understand how loyalty program membership influences purchasing patterns. The goal is to compare transaction metrics between loyalty members and non-members."
      ]
    },
    {
      "cell_type": "code",
      "execution_count": 1,
      "metadata": {},
      "outputs": [],
      "source": [
        "import pandas as pd\n",
        "import numpy as np\n",
        "\n",
        "dim_customers_data = [\n",
        "  {\n",
        "    \"customer_id\": 1,\n",
        "    \"is_loyalty_member\": 1\n",
        "  },\n",
        "  {\n",
        "    \"customer_id\": 2,\n",
        "    \"is_loyalty_member\": 0\n",
        "  },\n",
        "  {\n",
        "    \"customer_id\": 3,\n",
        "    \"is_loyalty_member\": 1\n",
        "  },\n",
        "  {\n",
        "    \"customer_id\": 4,\n",
        "    \"is_loyalty_member\": 0\n",
        "  },\n",
        "  {\n",
        "    \"customer_id\": 5,\n",
        "    \"is_loyalty_member\": 1\n",
        "  },\n",
        "  {\n",
        "    \"customer_id\": 6,\n",
        "    \"is_loyalty_member\": 1\n",
        "  },\n",
        "  {\n",
        "    \"customer_id\": 7,\n",
        "    \"is_loyalty_member\": 0\n",
        "  },\n",
        "  {\n",
        "    \"customer_id\": 8,\n",
        "    \"is_loyalty_member\": 1\n",
        "  },\n",
        "  {\n",
        "    \"customer_id\": 9,\n",
        "    \"is_loyalty_member\": 0\n",
        "  },\n",
        "  {\n",
        "    \"customer_id\": 10,\n",
        "    \"is_loyalty_member\": 0\n",
        "  },\n",
        "  {\n",
        "    \"customer_id\": 11,\n",
        "    \"is_loyalty_member\": 1\n",
        "  },\n",
        "  {\n",
        "    \"customer_id\": 12,\n",
        "    \"is_loyalty_member\": 0\n",
        "  }\n",
        "]\n",
        "dim_customers = pd.DataFrame(dim_customers_data)\n",
        "\n",
        "fct_transactions_data = [\n",
        "  {\n",
        "    \"customer_id\": 1,\n",
        "    \"transaction_id\": 101,\n",
        "    \"transaction_date\": \"2024-07-05\",\n",
        "    \"transaction_value\": 5.5\n",
        "  },\n",
        "  {\n",
        "    \"customer_id\": 1,\n",
        "    \"transaction_id\": 102,\n",
        "    \"transaction_date\": \"2024-07-15\",\n",
        "    \"transaction_value\": 7.25\n",
        "  },\n",
        "  {\n",
        "    \"customer_id\": 2,\n",
        "    \"transaction_id\": 103,\n",
        "    \"transaction_date\": \"2024-07-10\",\n",
        "    \"transaction_value\": 4\n",
        "  },\n",
        "  {\n",
        "    \"customer_id\": 3,\n",
        "    \"transaction_id\": 104,\n",
        "    \"transaction_date\": \"2024-07-20\",\n",
        "    \"transaction_value\": 8.75\n",
        "  },\n",
        "  {\n",
        "    \"customer_id\": 4,\n",
        "    \"transaction_id\": 105,\n",
        "    \"transaction_date\": \"2024-07-03\",\n",
        "    \"transaction_value\": 6.5\n",
        "  },\n",
        "  {\n",
        "    \"customer_id\": 5,\n",
        "    \"transaction_id\": 106,\n",
        "    \"transaction_date\": \"2024-07-22\",\n",
        "    \"transaction_value\": 9\n",
        "  },\n",
        "  {\n",
        "    \"customer_id\": 6,\n",
        "    \"transaction_id\": 107,\n",
        "    \"transaction_date\": \"2024-07-11\",\n",
        "    \"transaction_value\": 10.5\n",
        "  },\n",
        "  {\n",
        "    \"customer_id\": 7,\n",
        "    \"transaction_id\": 108,\n",
        "    \"transaction_date\": \"2024-07-18\",\n",
        "    \"transaction_value\": 4.25\n",
        "  },\n",
        "  {\n",
        "    \"customer_id\": 8,\n",
        "    \"transaction_id\": 109,\n",
        "    \"transaction_date\": \"2024-07-25\",\n",
        "    \"transaction_value\": 12\n",
        "  },\n",
        "  {\n",
        "    \"customer_id\": 9,\n",
        "    \"transaction_id\": 110,\n",
        "    \"transaction_date\": \"2024-07-07\",\n",
        "    \"transaction_value\": 3.75\n",
        "  },\n",
        "  {\n",
        "    \"customer_id\": 10,\n",
        "    \"transaction_id\": 111,\n",
        "    \"transaction_date\": \"2024-07-12\",\n",
        "    \"transaction_value\": 5\n",
        "  },\n",
        "  {\n",
        "    \"customer_id\": 11,\n",
        "    \"transaction_id\": 112,\n",
        "    \"transaction_date\": \"2024-07-27\",\n",
        "    \"transaction_value\": 11.25\n",
        "  },\n",
        "  {\n",
        "    \"customer_id\": 12,\n",
        "    \"transaction_id\": 113,\n",
        "    \"transaction_date\": \"2024-07-08\",\n",
        "    \"transaction_value\": 6\n",
        "  },\n",
        "  {\n",
        "    \"customer_id\": 3,\n",
        "    \"transaction_id\": 114,\n",
        "    \"transaction_date\": \"2024-07-30\",\n",
        "    \"transaction_value\": 7.5\n",
        "  },\n",
        "  {\n",
        "    \"customer_id\": 5,\n",
        "    \"transaction_id\": 115,\n",
        "    \"transaction_date\": \"2024-07-29\",\n",
        "    \"transaction_value\": 10\n",
        "  },\n",
        "  {\n",
        "    \"customer_id\": 1,\n",
        "    \"transaction_id\": 116,\n",
        "    \"transaction_date\": \"2024-07-31\",\n",
        "    \"transaction_value\": 6.25\n",
        "  }\n",
        "]\n",
        "fct_transactions = pd.DataFrame(fct_transactions_data)\n"
      ]
    },
    {
      "cell_type": "markdown",
      "metadata": {},
      "source": [
        "## Question 1\n",
        "\n",
        "For the month of July 2024, how many transactions did loyalty program members and non-members make? Compare the transaction counts between these two groups."
      ]
    },
    {
      "cell_type": "code",
      "execution_count": null,
      "metadata": {},
      "outputs": [
        {
          "name": "stdout",
          "output_type": "stream",
          "text": [
            "   is_loyalty_member  transaction_count\n",
            "0                  0                  6\n",
            "1                  1                 10\n"
          ]
        }
      ],
      "source": [
        "# Filter for July 2024 transactions\n",
        "july_txn = fct_transactions[\n",
        "    (fct_transactions['transaction_date'] >= '2024-07-01') &\n",
        "    (fct_transactions['transaction_date'] < '2024-08-01')\n",
        "]\n",
        "\n",
        "# Merge with customer table to get loyalty membership\n",
        "merged_df = july_txn.merge(dim_customers, on='customer_id', how='left')\n",
        "\n",
        "# Count transactions by loyalty membership\n",
        "txn_counts = merged_df.groupby('is_loyalty_member')['transaction_id'].count().reset_index()\n",
        "\n",
        "# Rename columns for clarity\n",
        "txn_counts.columns = ['is_loyalty_member', 'transaction_count']\n",
        "\n",
        "print(txn_counts)"
      ]
    },
    {
      "cell_type": "markdown",
      "metadata": {},
      "source": [
        "## Question 2\n",
        "\n",
        "What is the average transaction value for loyalty program members and non-members during July 2024? Use this to identify which group has a higher average transaction value."
      ]
    },
    {
      "cell_type": "code",
      "execution_count": null,
      "metadata": {},
      "outputs": [
        {
          "name": "stdout",
          "output_type": "stream",
          "text": [
            "Average Transaction Value by Group:\n",
            "   is_loyalty_member  transaction_value\n",
            "0                  0           4.916667\n",
            "1                  1           8.800000\n",
            "Higher average transaction value: Loyalty Members\n"
          ]
        }
      ],
      "source": [
        "# Filter for July 2024 transactions\n",
        "july_txn = fct_transactions[\n",
        "    (fct_transactions['transaction_date'] >= '2024-07-01') &\n",
        "    (fct_transactions['transaction_date'] < '2024-08-01')\n",
        "]\n",
        "\n",
        "# Merge transactions with customer info\n",
        "merged_df = july_txn.merge(dim_customers, on='customer_id', how='left')\n",
        "\n",
        "# Calculate average transaction value per group\n",
        "avg_txn_values = (\n",
        "    merged_df.groupby('is_loyalty_member')['transaction_value']\n",
        "    .mean()\n",
        "    .reset_index()\n",
        ")\n",
        "\n",
        "# Identify which group has higher average\n",
        "higher_group = avg_txn_values.loc[\n",
        "    avg_txn_values['transaction_value'].idxmax(),\n",
        "    'is_loyalty_member'\n",
        "]\n",
        "\n",
        "print(\"Average Transaction Value by Group:\")\n",
        "print(avg_txn_values)\n",
        "print(f\"Higher average transaction value: {'Loyalty Members' if higher_group else 'Non-members'}\")"
      ]
    },
    {
      "cell_type": "markdown",
      "metadata": {},
      "source": [
        "## Question 3\n",
        "\n",
        "Determine the percentage difference in average transaction value between loyalty program members and non-members for July 2024."
      ]
    },
    {
      "cell_type": "code",
      "execution_count": null,
      "metadata": {},
      "outputs": [
        {
          "name": "stdout",
          "output_type": "stream",
          "text": [
            "Average Transaction Value - Loyalty Members: 8.80\n",
            "Average Transaction Value - Non-Members: 4.92\n",
            "Percentage Difference: 78.98%\n"
          ]
        }
      ],
      "source": [
        "# Filter for July 2024\n",
        "july_txn = fct_transactions[\n",
        "    (fct_transactions['transaction_date'] >= '2024-07-01') &\n",
        "    (fct_transactions['transaction_date'] < '2024-08-01')\n",
        "]\n",
        "\n",
        "# Merge with customer info\n",
        "merged_df = july_txn.merge(dim_customers, on='customer_id', how='left')\n",
        "\n",
        "# Calculate average transaction value per group\n",
        "avg_values = merged_df.groupby('is_loyalty_member')['transaction_value'].mean()\n",
        "\n",
        "# Calculate percentage difference\n",
        "loyal_avg = avg_values[1]\n",
        "non_loyal_avg = avg_values[0]\n",
        "pct_diff = ((loyal_avg - non_loyal_avg) / non_loyal_avg) * 100\n",
        "\n",
        "print(f\"Average Transaction Value - Loyalty Members: {loyal_avg:.2f}\")\n",
        "print(f\"Average Transaction Value - Non-Members: {non_loyal_avg:.2f}\")\n",
        "print(f\"Percentage Difference: {pct_diff:.2f}%\")"
      ]
    },
    {
      "cell_type": "markdown",
      "metadata": {},
      "source": [
        "Made with ❤️ by [Interview Master](https://www.interviewmaster.ai)"
      ]
    }
  ],
  "metadata": {
    "kernelspec": {
      "display_name": "base",
      "language": "python",
      "name": "python3"
    },
    "language_info": {
      "codemirror_mode": {
        "name": "ipython",
        "version": 3
      },
      "file_extension": ".py",
      "mimetype": "text/x-python",
      "name": "python",
      "nbconvert_exporter": "python",
      "pygments_lexer": "ipython3",
      "version": "3.12.7"
    }
  },
  "nbformat": 4,
  "nbformat_minor": 5
}
