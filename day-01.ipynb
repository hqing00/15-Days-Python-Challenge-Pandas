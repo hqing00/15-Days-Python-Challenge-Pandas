{
  "cells": [
    {
      "cell_type": "markdown",
      "metadata": {},
      "source": [
        "# Day 1: WhatsApp Group Size Engagement Analysis"
      ]
    },
    {
      "cell_type": "markdown",
      "metadata": {},
      "source": [
        "You are a Product Analyst on the WhatsApp team investigating group messaging dynamics. Your team wants to understand how large groups are being used and their messaging patterns. You'll leverage data to uncover insights about group participation and communication behaviors."
      ]
    },
    {
      "cell_type": "code",
      "execution_count": 2,
      "metadata": {},
      "outputs": [],
      "source": [
        "import pandas as pd\n",
        "import numpy as np\n",
        "\n",
        "dim_groups_data = [\n",
        "  {\n",
        "    \"group_id\": 1,\n",
        "    \"created_date\": \"2024-10-01\",\n",
        "    \"total_messages\": 100,\n",
        "    \"participant_count\": 25\n",
        "  },\n",
        "  {\n",
        "    \"group_id\": 2,\n",
        "    \"created_date\": \"2024-10-10\",\n",
        "    \"total_messages\": 200,\n",
        "    \"participant_count\": 55\n",
        "  },\n",
        "  {\n",
        "    \"group_id\": 3,\n",
        "    \"created_date\": \"2024-11-05\",\n",
        "    \"total_messages\": 150,\n",
        "    \"participant_count\": 40\n",
        "  },\n",
        "  {\n",
        "    \"group_id\": 4,\n",
        "    \"created_date\": \"2024-10-15\",\n",
        "    \"total_messages\": 500,\n",
        "    \"participant_count\": 100\n",
        "  },\n",
        "  {\n",
        "    \"group_id\": 5,\n",
        "    \"created_date\": \"2024-12-01\",\n",
        "    \"total_messages\": 120,\n",
        "    \"participant_count\": 35\n",
        "  },\n",
        "  {\n",
        "    \"group_id\": 6,\n",
        "    \"created_date\": \"2024-10-20\",\n",
        "    \"total_messages\": 300,\n",
        "    \"participant_count\": 50\n",
        "  },\n",
        "  {\n",
        "    \"group_id\": 7,\n",
        "    \"created_date\": \"2024-10-25\",\n",
        "    \"total_messages\": 400,\n",
        "    \"participant_count\": 60\n",
        "  },\n",
        "  {\n",
        "    \"group_id\": 8,\n",
        "    \"created_date\": \"2024-11-10\",\n",
        "    \"total_messages\": 220,\n",
        "    \"participant_count\": 45\n",
        "  },\n",
        "  {\n",
        "    \"group_id\": 9,\n",
        "    \"created_date\": \"2024-10-30\",\n",
        "    \"total_messages\": 450,\n",
        "    \"participant_count\": 80\n",
        "  },\n",
        "  {\n",
        "    \"group_id\": 10,\n",
        "    \"created_date\": \"2024-12-15\",\n",
        "    \"total_messages\": 80,\n",
        "    \"participant_count\": 15\n",
        "  },\n",
        "  {\n",
        "    \"group_id\": 11,\n",
        "    \"created_date\": \"2024-10-05\",\n",
        "    \"total_messages\": 600,\n",
        "    \"participant_count\": 90\n",
        "  },\n",
        "  {\n",
        "    \"group_id\": 12,\n",
        "    \"created_date\": \"2024-10-12\",\n",
        "    \"total_messages\": 50,\n",
        "    \"participant_count\": 10\n",
        "  }\n",
        "]\n",
        "dim_groups = pd.DataFrame(dim_groups_data)\n"
      ]
    },
    {
      "cell_type": "markdown",
      "metadata": {},
      "source": [
        "## Question 1\n",
        "\n",
        "What is the maximum number of participants among WhatsApp groups that were created in October 2024? This metric will help us understand the largest group size available."
      ]
    },
    {
      "cell_type": "code",
      "execution_count": 7,
      "metadata": {},
      "outputs": [
        {
          "name": "stdout",
          "output_type": "stream",
          "text": [
            "100\n"
          ]
        }
      ],
      "source": [
        "# datetime\n",
        "dim_groups['created_date'] = pd.to_datetime(dim_groups['created_date'])\n",
        "\n",
        "# Filter October 2024\n",
        "october_groups = dim_groups[\n",
        "  (dim_groups['created_date'].dt.month == 10) &\n",
        "  (dim_groups['created_date'].dt.year == 2024)\n",
        "]\n",
        "\n",
        "# Max number of participants\n",
        "max_participants = october_groups['participant_count'].max()\n",
        "\n",
        "print(max_participants)"
      ]
    },
    {
      "cell_type": "markdown",
      "metadata": {},
      "source": [
        "## Question 2\n",
        "\n",
        "What is the average number of participants in WhatsApp groups that were created in October 2024? This number will indicate the typical group size and inform our group messaging feature considerations."
      ]
    },
    {
      "cell_type": "code",
      "execution_count": 8,
      "metadata": {},
      "outputs": [
        {
          "name": "stdout",
          "output_type": "stream",
          "text": [
            "58.75\n"
          ]
        }
      ],
      "source": [
        "# Filter October 2024\n",
        "october_groups = dim_groups[\n",
        "  (dim_groups['created_date'].dt.month == 10) &\n",
        "  (dim_groups['created_date'].dt.year == 2024)\n",
        "]\n",
        "\n",
        "# Average number of participants\n",
        "avg_participants = october_groups['participant_count'].mean()\n",
        "\n",
        "print(avg_participants)"
      ]
    },
    {
      "cell_type": "markdown",
      "metadata": {},
      "source": [
        "## Question 3\n",
        "\n",
        "For WhatsApp groups with more than 50 participants that were created in October 2024, what is the average number of messages sent? This insight will help assess engagement in larger groups and support recommendations for group messaging features."
      ]
    },
    {
      "cell_type": "code",
      "execution_count": 10,
      "metadata": {},
      "outputs": [
        {
          "name": "stdout",
          "output_type": "stream",
          "text": [
            "430.0\n"
          ]
        }
      ],
      "source": [
        "# Filter October 2024\n",
        "october_groups = dim_groups[\n",
        "  (dim_groups['created_date'].dt.month == 10) &\n",
        "  (dim_groups['created_date'].dt.year == 2024) &\n",
        "  (dim_groups['participant_count'] > 50)\n",
        "]\n",
        "\n",
        "# Average message\n",
        "avg_messages = october_groups['total_messages'].mean()\n",
        "\n",
        "print(avg_messages)"
      ]
    },
    {
      "cell_type": "markdown",
      "metadata": {},
      "source": [
        "Made with ❤️ by [Interview Master](https://www.interviewmaster.ai)"
      ]
    }
  ],
  "metadata": {
    "kernelspec": {
      "display_name": "base",
      "language": "python",
      "name": "python3"
    },
    "language_info": {
      "codemirror_mode": {
        "name": "ipython",
        "version": 3
      },
      "file_extension": ".py",
      "mimetype": "text/x-python",
      "name": "python",
      "nbconvert_exporter": "python",
      "pygments_lexer": "ipython3",
      "version": "3.12.7"
    }
  },
  "nbformat": 4,
  "nbformat_minor": 5
}
