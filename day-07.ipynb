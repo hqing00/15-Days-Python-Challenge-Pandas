{
  "cells": [
    {
      "cell_type": "markdown",
      "metadata": {},
      "source": [
        "# Day 7: Celebrity Product Drops Sales Performance Analysis"
      ]
    },
    {
      "cell_type": "markdown",
      "metadata": {},
      "source": [
        "You are a Product Analyst working on Nike's marketing performance team. Your team wants to evaluate the effectiveness of celebrity product collaborations by analyzing sales data. You will investigate the performance of celebrity product drops to inform future marketing strategies."
      ]
    },
    {
      "cell_type": "code",
      "execution_count": 3,
      "metadata": {},
      "outputs": [],
      "source": [
        "import pandas as pd\n",
        "import numpy as np\n",
        "\n",
        "fct_sales_data = [\n",
        "  {\n",
        "    \"sale_id\": 1,\n",
        "    \"sale_date\": \"2025-01-10\",\n",
        "    \"product_id\": 901,\n",
        "    \"sale_amount\": None,\n",
        "    \"celebrity_id\": 101\n",
        "  },\n",
        "  {\n",
        "    \"sale_id\": 2,\n",
        "    \"sale_date\": \"2025-01-15\",\n",
        "    \"product_id\": 901,\n",
        "    \"sale_amount\": 1500,\n",
        "    \"celebrity_id\": 101\n",
        "  },\n",
        "  {\n",
        "    \"sale_id\": 3,\n",
        "    \"sale_date\": \"2025-02-03\",\n",
        "    \"product_id\": 902,\n",
        "    \"sale_amount\": 2000.5,\n",
        "    \"celebrity_id\": 102\n",
        "  },\n",
        "  {\n",
        "    \"sale_id\": 4,\n",
        "    \"sale_date\": \"2025-03-12\",\n",
        "    \"product_id\": 903,\n",
        "    \"sale_amount\": 2500.75,\n",
        "    \"celebrity_id\": 103\n",
        "  },\n",
        "  {\n",
        "    \"sale_id\": 5,\n",
        "    \"sale_date\": \"2025-03-20\",\n",
        "    \"product_id\": 904,\n",
        "    \"sale_amount\": None,\n",
        "    \"celebrity_id\": 104\n",
        "  },\n",
        "  {\n",
        "    \"sale_id\": 6,\n",
        "    \"sale_date\": \"2025-02-28\",\n",
        "    \"product_id\": 901,\n",
        "    \"sale_amount\": 1000,\n",
        "    \"celebrity_id\": 101\n",
        "  },\n",
        "  {\n",
        "    \"sale_id\": 7,\n",
        "    \"sale_date\": \"2025-03-25\",\n",
        "    \"product_id\": 902,\n",
        "    \"sale_amount\": 300,\n",
        "    \"celebrity_id\": 102\n",
        "  },\n",
        "  {\n",
        "    \"sale_id\": 8,\n",
        "    \"sale_date\": \"2025-03-30\",\n",
        "    \"product_id\": 905,\n",
        "    \"sale_amount\": 1800,\n",
        "    \"celebrity_id\": 105\n",
        "  },\n",
        "  {\n",
        "    \"sale_id\": 9,\n",
        "    \"sale_date\": \"2025-01-20\",\n",
        "    \"product_id\": 903,\n",
        "    \"sale_amount\": 1200,\n",
        "    \"celebrity_id\": 103\n",
        "  },\n",
        "  {\n",
        "    \"sale_id\": 10,\n",
        "    \"sale_date\": \"2025-02-05\",\n",
        "    \"product_id\": 906,\n",
        "    \"sale_amount\": 500,\n",
        "    \"celebrity_id\": 106\n",
        "  },\n",
        "  {\n",
        "    \"sale_id\": 11,\n",
        "    \"sale_date\": \"2025-03-01\",\n",
        "    \"product_id\": 907,\n",
        "    \"sale_amount\": 2200,\n",
        "    \"celebrity_id\": 107\n",
        "  },\n",
        "  {\n",
        "    \"sale_id\": 12,\n",
        "    \"sale_date\": \"2025-02-15\",\n",
        "    \"product_id\": 908,\n",
        "    \"sale_amount\": 1300,\n",
        "    \"celebrity_id\": 101\n",
        "  },\n",
        "  {\n",
        "    \"sale_id\": 13,\n",
        "    \"sale_date\": \"2025-03-15\",\n",
        "    \"product_id\": 909,\n",
        "    \"sale_amount\": None,\n",
        "    \"celebrity_id\": 102\n",
        "  },\n",
        "  {\n",
        "    \"sale_id\": 14,\n",
        "    \"sale_date\": \"2025-01-25\",\n",
        "    \"product_id\": 910,\n",
        "    \"sale_amount\": 900,\n",
        "    \"celebrity_id\": 108\n",
        "  },\n",
        "  {\n",
        "    \"sale_id\": 15,\n",
        "    \"sale_date\": \"2025-02-20\",\n",
        "    \"product_id\": 905,\n",
        "    \"sale_amount\": 700,\n",
        "    \"celebrity_id\": 105\n",
        "  },\n",
        "  {\n",
        "    \"sale_id\": 16,\n",
        "    \"sale_date\": \"2025-03-28\",\n",
        "    \"product_id\": 902,\n",
        "    \"sale_amount\": 1500,\n",
        "    \"celebrity_id\": 102\n",
        "  },\n",
        "  {\n",
        "    \"sale_id\": 17,\n",
        "    \"sale_date\": \"2024-11-15\",\n",
        "    \"product_id\": 901,\n",
        "    \"sale_amount\": 800,\n",
        "    \"celebrity_id\": 101\n",
        "  },\n",
        "  {\n",
        "    \"sale_id\": 18,\n",
        "    \"sale_date\": \"2024-07-30\",\n",
        "    \"product_id\": 902,\n",
        "    \"sale_amount\": 1000,\n",
        "    \"celebrity_id\": 102\n",
        "  },\n",
        "  {\n",
        "    \"sale_id\": 19,\n",
        "    \"sale_date\": \"2025-04-10\",\n",
        "    \"product_id\": 905,\n",
        "    \"sale_amount\": 2000,\n",
        "    \"celebrity_id\": 105\n",
        "  },\n",
        "  {\n",
        "    \"sale_id\": 20,\n",
        "    \"sale_date\": \"2024-09-05\",\n",
        "    \"product_id\": 903,\n",
        "    \"sale_amount\": 1100,\n",
        "    \"celebrity_id\": 103\n",
        "  }\n",
        "]\n",
        "fct_sales = pd.DataFrame(fct_sales_data)\n"
      ]
    },
    {
      "cell_type": "markdown",
      "metadata": {},
      "source": [
        "## Question 1\n",
        "\n",
        "For Q1 2025 (January 1st through March 31st, 2025), can you identify all records of celebrity collaborations from the sales data where the sale_amount is missing? This will help us flag incomplete records that could impact the analysis of Nike's product performance."
      ]
    },
    {
      "cell_type": "code",
      "execution_count": 4,
      "metadata": {},
      "outputs": [
        {
          "name": "stdout",
          "output_type": "stream",
          "text": [
            "Q1 2025 celebrity collaborations with missing sale_amount:\n",
            "    sale_id   sale_date  product_id  sale_amount  celebrity_id\n",
            "0         1  2025-01-10         901          NaN           101\n",
            "4         5  2025-03-20         904          NaN           104\n",
            "12       13  2025-03-15         909          NaN           102\n"
          ]
        }
      ],
      "source": [
        "# Filter for Q1 2025 (Jan 1 - Mar 31, 2025)\n",
        "q1_2025_sales = fct_sales[\n",
        "    (fct_sales['sale_date'] >= '2025-01-01') &\n",
        "    (fct_sales['sale_date'] <= '2025-03-31')\n",
        "]\n",
        "\n",
        "# Filter for missing sale_amount\n",
        "missing_sale_amount_q1 = q1_2025_sales[q1_2025_sales['sale_amount'].isna()]\n",
        "\n",
        "# Output the flagged incomplete records\n",
        "print(\"Q1 2025 celebrity collaborations with missing sale_amount:\")\n",
        "print(missing_sale_amount_q1)"
      ]
    },
    {
      "cell_type": "markdown",
      "metadata": {},
      "source": [
        "## Question 2\n",
        "\n",
        "For Q1 2025 (January 1st through March 31st, 2025), can you list the unique combinations of celebrity_id and product_id from the sales table? This will ensure that each collaboration is accurately accounted for in the analysis of Nike's marketing performance."
      ]
    },
    {
      "cell_type": "code",
      "execution_count": 5,
      "metadata": {},
      "outputs": [
        {
          "name": "stdout",
          "output_type": "stream",
          "text": [
            "    celebrity_id  product_id\n",
            "0            101         901\n",
            "2            102         902\n",
            "3            103         903\n",
            "4            104         904\n",
            "7            105         905\n",
            "9            106         906\n",
            "10           107         907\n",
            "11           101         908\n",
            "12           102         909\n",
            "13           108         910\n"
          ]
        }
      ],
      "source": [
        "# Filter for Q1 2025\n",
        "q1_2025_sales = fct_sales[\n",
        "    (fct_sales['sale_date'] >= '2025-01-01') &\n",
        "    (fct_sales['sale_date'] <= '2025-03-31')\n",
        "]\n",
        "\n",
        "# Get unique combinations of celebrity_id and product_id\n",
        "unique_collabs = q1_2025_sales[['celebrity_id', 'product_id']].drop_duplicates()\n",
        "\n",
        "print(unique_collabs)"
      ]
    },
    {
      "cell_type": "markdown",
      "metadata": {},
      "source": [
        "## Question 3\n",
        "\n",
        "For Q1 2025 (January 1st through March 31st, 2025), can you rank the unique celebrity collaborations based on their total sales amounts and list the top 3 collaborations in descending order? This will help recommend the most successful partnerships for Nike's future product drop strategies."
      ]
    },
    {
      "cell_type": "code",
      "execution_count": 6,
      "metadata": {},
      "outputs": [
        {
          "name": "stdout",
          "output_type": "stream",
          "text": [
            "   celebrity_id  product_id  sale_amount\n",
            "2           102         902      3800.50\n",
            "4           103         903      3700.75\n",
            "0           101         901      2500.00\n"
          ]
        }
      ],
      "source": [
        "# Filter for Q1 2025\n",
        "q1_2025_sales = fct_sales[\n",
        "    (fct_sales['sale_date'] >= '2025-01-01') &\n",
        "    (fct_sales['sale_date'] <= '2025-03-31')\n",
        "]\n",
        "\n",
        "# Group by celebrity_id and product_id, summing sale_amount\n",
        "collab_sales = (\n",
        "    q1_2025_sales\n",
        "    .groupby(['celebrity_id', 'product_id'], as_index=False)['sale_amount']\n",
        "    .sum()\n",
        ")\n",
        "\n",
        "# Sort by total sales in descending order\n",
        "collab_sales_sorted = collab_sales.sort_values(by='sale_amount', ascending=False)\n",
        "\n",
        "# Get top 3 collaborations\n",
        "top_3_collabs = collab_sales_sorted.head(3)\n",
        "\n",
        "print(top_3_collabs)"
      ]
    },
    {
      "cell_type": "markdown",
      "metadata": {},
      "source": [
        "Made with ❤️ by [Interview Master](https://www.interviewmaster.ai)"
      ]
    }
  ],
  "metadata": {
    "kernelspec": {
      "display_name": "base",
      "language": "python",
      "name": "python3"
    },
    "language_info": {
      "codemirror_mode": {
        "name": "ipython",
        "version": 3
      },
      "file_extension": ".py",
      "mimetype": "text/x-python",
      "name": "python",
      "nbconvert_exporter": "python",
      "pygments_lexer": "ipython3",
      "version": "3.12.7"
    }
  },
  "nbformat": 4,
  "nbformat_minor": 5
}
