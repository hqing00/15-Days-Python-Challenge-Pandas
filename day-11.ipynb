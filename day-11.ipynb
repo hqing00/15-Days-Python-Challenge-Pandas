{
  "cells": [
    {
      "cell_type": "markdown",
      "metadata": {},
      "source": [
        "# Day 11: Payment Fraud Risk Detection in Online Transactions"
      ]
    },
    {
      "cell_type": "markdown",
      "metadata": {},
      "source": [
        "You are a data analyst in Stripe's risk management team investigating transaction patterns to identify potential fraud. The team needs to develop a systematic approach to screen transactions for financial risks. Your goal is to create an initial risk assessment methodology using transaction characteristics."
      ]
    },
    {
      "cell_type": "code",
      "execution_count": 2,
      "metadata": {},
      "outputs": [],
      "source": [
        "import pandas as pd\n",
        "import numpy as np\n",
        "\n",
        "dim_risk_flags_data = [\n",
        "  {\n",
        "    \"risk_level\": \"Low\",\n",
        "    \"risk_flag_id\": 1,\n",
        "    \"transaction_id\": 2\n",
        "  },\n",
        "  {\n",
        "    \"risk_level\": \"Medium\",\n",
        "    \"risk_flag_id\": 2,\n",
        "    \"transaction_id\": 7\n",
        "  },\n",
        "  {\n",
        "    \"risk_level\": \"High\",\n",
        "    \"risk_flag_id\": 3,\n",
        "    \"transaction_id\": 11\n",
        "  },\n",
        "  {\n",
        "    \"risk_level\": \"High\",\n",
        "    \"risk_flag_id\": 4,\n",
        "    \"transaction_id\": 12\n",
        "  },\n",
        "  {\n",
        "    \"risk_level\": \"High\",\n",
        "    \"risk_flag_id\": 5,\n",
        "    \"transaction_id\": 13\n",
        "  },\n",
        "  {\n",
        "    \"risk_level\": \"Medium\",\n",
        "    \"risk_flag_id\": 6,\n",
        "    \"transaction_id\": 14\n",
        "  },\n",
        "  {\n",
        "    \"risk_level\": \"High\",\n",
        "    \"risk_flag_id\": 7,\n",
        "    \"transaction_id\": 15\n",
        "  },\n",
        "  {\n",
        "    \"risk_level\": \"Low\",\n",
        "    \"risk_flag_id\": 8,\n",
        "    \"transaction_id\": 1\n",
        "  },\n",
        "  {\n",
        "    \"risk_level\": \"Medium\",\n",
        "    \"risk_flag_id\": 9,\n",
        "    \"transaction_id\": 6\n",
        "  },\n",
        "  {\n",
        "    \"risk_level\": \"Low\",\n",
        "    \"risk_flag_id\": 10,\n",
        "    \"transaction_id\": 3\n",
        "  }\n",
        "]\n",
        "dim_risk_flags = pd.DataFrame(dim_risk_flags_data)\n",
        "\n",
        "fct_transactions_data = [\n",
        "  {\n",
        "    \"customer_email\": \"alice@gmail.com\",\n",
        "    \"transaction_id\": 1,\n",
        "    \"transaction_date\": \"2024-10-05\",\n",
        "    \"transaction_amount\": 120,\n",
        "    \"fraud_detection_score\": 10\n",
        "  },\n",
        "  {\n",
        "    \"customer_email\": \"bob@customdomain.com\",\n",
        "    \"transaction_id\": 2,\n",
        "    \"transaction_date\": \"2024-10-15\",\n",
        "    \"transaction_amount\": 250.5,\n",
        "    \"fraud_detection_score\": 20\n",
        "  },\n",
        "  {\n",
        "    \"customer_email\": \"charlie@yahoo.com\",\n",
        "    \"transaction_id\": 3,\n",
        "    \"transaction_date\": \"2024-10-20\",\n",
        "    \"transaction_amount\": 75.25,\n",
        "    \"fraud_detection_score\": 15\n",
        "  },\n",
        "  {\n",
        "    \"customer_email\": \"dana@hotmail.com\",\n",
        "    \"transaction_id\": 4,\n",
        "    \"transaction_date\": \"2024-10-25\",\n",
        "    \"transaction_amount\": 100,\n",
        "    \"fraud_detection_score\": 30\n",
        "  },\n",
        "  {\n",
        "    \"customer_email\": \"eve@biz.org\",\n",
        "    \"transaction_id\": 5,\n",
        "    \"transaction_date\": \"2024-10-30\",\n",
        "    \"transaction_amount\": 300,\n",
        "    \"fraud_detection_score\": 40\n",
        "  },\n",
        "  {\n",
        "    \"customer_email\": \"frank@gmail.com\",\n",
        "    \"transaction_id\": 6,\n",
        "    \"transaction_date\": \"2024-11-03\",\n",
        "    \"transaction_amount\": 150.75,\n",
        "    \"fraud_detection_score\": 25\n",
        "  },\n",
        "  {\n",
        "    \"customer_email\": \"grace@outlook.com\",\n",
        "    \"transaction_id\": 7,\n",
        "    \"transaction_date\": \"2024-11-10\",\n",
        "    \"transaction_amount\": None,\n",
        "    \"fraud_detection_score\": 50\n",
        "  },\n",
        "  {\n",
        "    \"customer_email\": \"ivan@yahoo.com\",\n",
        "    \"transaction_id\": 8,\n",
        "    \"transaction_date\": \"2024-11-15\",\n",
        "    \"transaction_amount\": 200,\n",
        "    \"fraud_detection_score\": 35\n",
        "  },\n",
        "  {\n",
        "    \"customer_email\": \"judy@hotmail.com\",\n",
        "    \"transaction_id\": 9,\n",
        "    \"transaction_date\": \"2024-11-21\",\n",
        "    \"transaction_amount\": 250,\n",
        "    \"fraud_detection_score\": 45\n",
        "  },\n",
        "  {\n",
        "    \"customer_email\": \"ken@domain.net\",\n",
        "    \"transaction_id\": 10,\n",
        "    \"transaction_date\": \"2024-11-29\",\n",
        "    \"transaction_amount\": 300,\n",
        "    \"fraud_detection_score\": 55\n",
        "  },\n",
        "  {\n",
        "    \"customer_email\": \"laura@riskmail.com\",\n",
        "    \"transaction_id\": 11,\n",
        "    \"transaction_date\": \"2024-12-02\",\n",
        "    \"transaction_amount\": 100,\n",
        "    \"fraud_detection_score\": 80\n",
        "  },\n",
        "  {\n",
        "    \"customer_email\": \"mike@securepay.com\",\n",
        "    \"transaction_id\": 12,\n",
        "    \"transaction_date\": \"2024-12-03\",\n",
        "    \"transaction_amount\": 180,\n",
        "    \"fraud_detection_score\": 85\n",
        "  },\n",
        "  {\n",
        "    \"customer_email\": \"nina@trusthub.com\",\n",
        "    \"transaction_id\": 13,\n",
        "    \"transaction_date\": \"2024-12-09\",\n",
        "    \"transaction_amount\": 220,\n",
        "    \"fraud_detection_score\": 90\n",
        "  },\n",
        "  {\n",
        "    \"customer_email\": \"oscar@fintech.com\",\n",
        "    \"transaction_id\": 14,\n",
        "    \"transaction_date\": \"2024-12-16\",\n",
        "    \"transaction_amount\": 140,\n",
        "    \"fraud_detection_score\": 70\n",
        "  },\n",
        "  {\n",
        "    \"customer_email\": \"paula@alertsys.com\",\n",
        "    \"transaction_id\": 15,\n",
        "    \"transaction_date\": \"2024-12-23\",\n",
        "    \"transaction_amount\": 260,\n",
        "    \"fraud_detection_score\": 95\n",
        "  }\n",
        "]\n",
        "fct_transactions = pd.DataFrame(fct_transactions_data)\n"
      ]
    },
    {
      "cell_type": "markdown",
      "metadata": {},
      "source": [
        "## Question 1\n",
        "\n",
        "How many transactions in October 2024 have a customer email ending with a domain other than 'gmail.com', 'yahoo.com', or 'hotmail.com'? This metric will help us identify transactions associated with less common email providers that may indicate emerging risk patterns."
      ]
    },
    {
      "cell_type": "code",
      "execution_count": 3,
      "metadata": {},
      "outputs": [
        {
          "name": "stdout",
          "output_type": "stream",
          "text": [
            "Transactions in Oct 2024 with non-gmail/yahoo/hotmail domains: 2\n",
            "   transaction_id transaction_date        customer_email      email_domain\n",
            "1               2       2024-10-15  bob@customdomain.com  customdomain.com\n",
            "4               5       2024-10-30           eve@biz.org           biz.org\n"
          ]
        }
      ],
      "source": [
        "# filter to October 2024\n",
        "oct_2024 = fct_transactions[\n",
        "    (fct_transactions['transaction_date'] >= '2024-10-01') &\n",
        "    (fct_transactions['transaction_date'] <  '2024-11-01')\n",
        "].copy()\n",
        "\n",
        "# normalize email column and extract domain\n",
        "# - convert to str first to avoid errors on NaN\n",
        "# - strip whitespace and lowercase\n",
        "oct_2024['email_norm'] = oct_2024['customer_email'].astype(str).str.strip().str.lower()\n",
        "\n",
        "# extract domain after '@'; if no '@' present, domain will equal the whole string (we'll treat as \"other\")\n",
        "oct_2024['email_domain'] = oct_2024['email_norm'].str.split('@').str[-1]\n",
        "\n",
        "# define allowed domains\n",
        "allowed = ['gmail.com', 'yahoo.com', 'hotmail.com']\n",
        "\n",
        "# boolean mask for domain not in allowed (also treat empty / 'nan' as other)\n",
        "mask_other_domains = ~oct_2024['email_domain'].isin(allowed)\n",
        "\n",
        "# optionally: exclude records where email is literally 'nan' (string from astype on actual NaN),\n",
        "# because these are missing emails — up to you whether to count them as \"other\"\n",
        "# To include missing as other, skip this step; to exclude them:\n",
        "# mask_valid_email_present = oct_2024['customer_email'].notna()\n",
        "# mask_other_domains = mask_other_domains & mask_valid_email_present\n",
        "\n",
        "# count\n",
        "count_other_domains = mask_other_domains.sum()\n",
        "\n",
        "print(\"Transactions in Oct 2024 with non-gmail/yahoo/hotmail domains:\", count_other_domains)\n",
        "\n",
        "# If you want to inspect them:\n",
        "other_domain_rows = oct_2024[mask_other_domains][['transaction_id', 'transaction_date', 'customer_email', 'email_domain']]\n",
        "print(other_domain_rows.head(20))"
      ]
    },
    {
      "cell_type": "markdown",
      "metadata": {},
      "source": [
        "## Question 2\n",
        "\n",
        "For transactions occurring in November 2024, what is the average transaction amount, using 0 as a default for any missing values? This calculation will help us detect abnormal transaction amounts that could be related to fraudulent activity."
      ]
    },
    {
      "cell_type": "code",
      "execution_count": 7,
      "metadata": {},
      "outputs": [
        {
          "name": "stdout",
          "output_type": "stream",
          "text": [
            "Average transaction amount (Nov 2024): 180.15\n"
          ]
        },
        {
          "name": "stderr",
          "output_type": "stream",
          "text": [
            "C:\\Users\\Yap Hui Qing\\AppData\\Local\\Temp\\ipykernel_26212\\3631469722.py:10: SettingWithCopyWarning: \n",
            "A value is trying to be set on a copy of a slice from a DataFrame.\n",
            "Try using .loc[row_indexer,col_indexer] = value instead\n",
            "\n",
            "See the caveats in the documentation: https://pandas.pydata.org/pandas-docs/stable/user_guide/indexing.html#returning-a-view-versus-a-copy\n",
            "  november_df['transaction_amount'] = november_df['transaction_amount'].fillna(0)\n"
          ]
        }
      ],
      "source": [
        "# Filter for November 2024\n",
        "fct_transactions['transaction_date'] = pd.to_datetime(fct_transactions['transaction_date'])\n",
        "\n",
        "november_df = fct_transactions[\n",
        "    (fct_transactions['transaction_date'].dt.year == 2024) &\n",
        "    (fct_transactions['transaction_date'].dt.month == 11)\n",
        "]\n",
        "\n",
        "# Fill missing transaction_amount with 0\n",
        "november_df['transaction_amount'] = november_df['transaction_amount'].fillna(0)\n",
        "\n",
        "# Calculate average\n",
        "avg_transaction_amount = november_df['transaction_amount'].mean()\n",
        "\n",
        "print(f\"Average transaction amount (Nov 2024): {avg_transaction_amount}\")"
      ]
    },
    {
      "cell_type": "markdown",
      "metadata": {},
      "source": [
        "## Question 3\n",
        "\n",
        "Among transactions flagged as 'High' risk in December 2024, which day of the week recorded the highest number of such transactions? This analysis is intended to pinpoint specific days with concentrated high-risk activity and support the development of our preliminary fraud detection score."
      ]
    },
    {
      "cell_type": "code",
      "execution_count": 9,
      "metadata": {},
      "outputs": [
        {
          "name": "stdout",
          "output_type": "stream",
          "text": [
            "Day with highest High-risk transactions in Dec 2024: Monday\n",
            "Number of transactions: 3\n"
          ]
        },
        {
          "name": "stderr",
          "output_type": "stream",
          "text": [
            "C:\\Users\\Yap Hui Qing\\AppData\\Local\\Temp\\ipykernel_26212\\744017555.py:12: SettingWithCopyWarning: \n",
            "A value is trying to be set on a copy of a slice from a DataFrame.\n",
            "Try using .loc[row_indexer,col_indexer] = value instead\n",
            "\n",
            "See the caveats in the documentation: https://pandas.pydata.org/pandas-docs/stable/user_guide/indexing.html#returning-a-view-versus-a-copy\n",
            "  filtered_df['weekday'] = filtered_df['transaction_date'].dt.day_name()\n"
          ]
        }
      ],
      "source": [
        "# Merge datasets on transaction_id\n",
        "merged_df = fct_transactions.merge(dim_risk_flags, on='transaction_id')\n",
        "\n",
        "# Filter for High risk and December 2024\n",
        "filtered_df = merged_df[\n",
        "    (merged_df['risk_level'] == 'High') &\n",
        "    (merged_df['transaction_date'].dt.month == 12) &\n",
        "    (merged_df['transaction_date'].dt.year == 2024)\n",
        "]\n",
        "\n",
        "# Extract day of the week\n",
        "filtered_df['weekday'] = filtered_df['transaction_date'].dt.day_name()\n",
        "\n",
        "# Count transactions per weekday\n",
        "weekday_counts = filtered_df['weekday'].value_counts()\n",
        "\n",
        "# Get the weekday with highest High-risk transactions\n",
        "top_day = weekday_counts.idxmax()\n",
        "top_count = weekday_counts.max()\n",
        "\n",
        "print(\"Day with highest High-risk transactions in Dec 2024:\", top_day)\n",
        "print(\"Number of transactions:\", top_count)"
      ]
    },
    {
      "cell_type": "markdown",
      "metadata": {},
      "source": [
        "Made with ❤️ by [Interview Master](https://www.interviewmaster.ai)"
      ]
    }
  ],
  "metadata": {
    "kernelspec": {
      "display_name": "base",
      "language": "python",
      "name": "python3"
    },
    "language_info": {
      "codemirror_mode": {
        "name": "ipython",
        "version": 3
      },
      "file_extension": ".py",
      "mimetype": "text/x-python",
      "name": "python",
      "nbconvert_exporter": "python",
      "pygments_lexer": "ipython3",
      "version": "3.12.7"
    }
  },
  "nbformat": 4,
  "nbformat_minor": 5
}
